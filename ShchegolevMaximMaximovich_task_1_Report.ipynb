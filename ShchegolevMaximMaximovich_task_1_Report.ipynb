{
 "cells": [
  {
   "cell_type": "markdown",
   "metadata": {},
   "source": [
    "# Теория"
   ]
  },
  {
   "cell_type": "markdown",
   "metadata": {
    "collapsed": true
   },
   "source": [
    "Прочитаем рейтинги игроков и сохраним эти рейтинги в массив. Т.к это массив, то доступ к любому элементу за O(1).\n",
    "Аналогично прочитаем файл с составами команд. В тот момент, когда мы считываем команды, мы могли бы сразу высчитывать их рейтинги, но на конечную сложность алгоритма это не влияет, а в python будет эффективнее сначала прочитать а потом уже высчитывать.\n",
    "\n",
    "Для каждой команды посчитаем её суммарный рейтинг. \n",
    "\n",
    "Рассмотрим задачу, как задачу построение множества отрезков на заданных точках неотрицательной части оси вещественных чисел, что сумма длин этих отрезков минимальна. \n",
    "Наименьшая сумма получится только тогда, когда отрезки не пересекаются или пересекаются не более чем в одной точке(т.е пересекаются концы отрезков, что возможно при повторении рейтингов команд)\n",
    "![alt text](1.png \"Title\")  \n",
    "![alt text](2.png \"Title\")  \n",
    "\n",
    "## Чётное количество точек\n",
    "Тогда в случае чётного количества нам достаточно отсортировать точки и составлять отрезки согласно порядку следования отсортированных точек.  \n",
    "\n",
    "## Нечётное количество точек\n",
    "Если же количество точек нечётное, то нам необходимо определить какую точку выкинуть.  \n",
    "\n",
    "В данном случае задача минимизации длин отрезков будет эквивалентна задаче максимизации расстояния между этими отрезками. \n",
    "\n",
    "### Часть А\n",
    "**Рассмотрим задачу максимизации.**   \n",
    "**Внимание!!** Теперь мы не минимизируем расстояние в парах(длину отрезков), а **максимизируем** расстояние между отрезками.  \n",
    "\n",
    "Пусть общее количество точек m и мы выбрали точку под номером $k$  \n",
    "**k нечетное**  \n",
    "Тогда расстояние между отрезками слева от этой точки равно: $\\sum_{n=1}^{\\frac{k-1}{2}} x_{2n+1}-x_{2n} $  \n",
    "Расстояние между отрезками справа от этой точки: $\\sum_{n=\\frac{k-1}{2}}^{\\frac{m-3}{2}} x_{2n+2}-x_{2n+1} $\n",
    "\n",
    "\n",
    "**k четное**  \n",
    "Тогда расстояние между отрезками слева от этой точки равно: $\\sum_{n=1}^{\\frac{k-2}{2}} x_{2n+1}-x_{2n} $  \n",
    "Расстояние между отрезками справа от этой точки: $\\sum_{n=\\frac{k-0}{2}}^{\\frac{m-3}{2}} x_{2n+2}-x_{2n+1} $\n",
    "\n",
    "#### Общее расстояние \n",
    "`distance_sum = сумма_слева + сумма_справа`\n",
    "\n",
    "Зафиксируем **нечётную** точку на позиции $\\tilde{k}$ и посмотрим как изменяется сумма при переходе от одной нечетной точке к следующей за ней чётной точке. \n",
    "\n",
    "Сумма слева: $\\sum_{n=1}^{\\frac{\\tilde{k}-1}{2}} x_{2n+1}-x_{2n} $  \n",
    "Сумма справа: $\\sum_{n=\\frac{\\tilde{k}-1}{2}}^{\\frac{m-3}{2}} x_{2n+2}-x_{2n+1} $  \n",
    "\n",
    "Теперь рассмотрим расстояния между отрезками для точки на позиции $\\tilde{k}+1$ (**четная**)  \n",
    "Сумма слева: $\\sum_{n=1}^{\\frac{\\tilde{k}+1-2}{2}} x_{2n+1}-x_{2n}  = \\sum_{n=1}^{\\frac{\\tilde{k}-1}{2}} x_{2n+1}-x_{2n}$  \n",
    "Сумма справа: $\\sum_{n=\\frac{\\tilde{k}+1-0}{2}}^{\\frac{m-3}{2}} x_{2n+2}-x_{2n+1} = \\sum_{n=\\frac{\\tilde{k}+1}{2}}^{\\frac{m-3}{2}} x_{2n+2}-x_{2n+1}$\n",
    "\n",
    "Таким образом сумма слева совпадает, а сумма справа для четной точки на величину $ x_{2\\frac{\\tilde{k}-1}{2}+2}-x_{2\\frac{\\tilde{k}-1}{2}+1}  = x_{\\tilde{k}+1} - x_{\\tilde{k}}$ меньше.  \n",
    "\n",
    "![alt text](3.png \"Нечетная\")  \n",
    "\n",
    "![alt text](4.png \"Чётная\")  \n",
    "Так как наша задача - максимизация расстояния между отрезками, то таким образом имеет смысл **выкидывать только нечетную точку** в отсортированной последовательности.\n",
    "\n",
    "### Часть Б\n",
    "Нам нужно выбрать какую нечётную точку выкинуть. Считать расстояния для каждой точки заново - слишком сложно, но в формулах выше, можно заметить, что при переходе от нечётной точки к  следующей нечётной точке сумма расстояний между отрезками изменяется следующий образом(**ключевая формула**): $$distance\\_sum = distance\\_sum - (x_{k-1}-x_{k-2}) + (x_{k}-x_{k-1})$$\n",
    "\n",
    "Мы можем посчитать расстояния между отрезками для первой нечётной точки(для этого нам придется пройти по последовательноси), но для следующей нечётной точки($k=3$) нам будет достаточно отнять $x_{2}-x_{1}$ и добавить $x_{3}-x_{2}$.  (Напомню, что доступ к произвольному элементу массива - O(1))  \n",
    "\n",
    "Ниже пример. Возможно следовало указать большее количество точек, чтобы было видно, что вне зависимости от размера последовательности, расчет новой distance_sum требует отнятия разности справа от прошлой нечётной точки и добавлении разности слева текущей нечётной точки.  \n",
    "\n",
    "![alt text](5.png \"Чётная\")\n",
    "$$distance\\_sum = (4-1)+(9-6) = 6$$\n",
    "![alt text](3.png \"Чётная\") \n",
    "$$distance\\_sum = distance\\_sum -(4-1) + (6-4) =5 $$\n",
    "![alt text](6.png \"Чётная\") \n",
    "$$distance\\_sum = distance\\_sum -(9-6) + (11-9) =4$$\n",
    "\n",
    "Та точка, на которой сумма расстояний будет максимальна  - искомая точка, которую следует выкинуть.  \n",
    "После того как выкинули точку(команду), мы можем составлять отрезки согласно следованию отсортированных точек. \n",
    "\n",
    "1. Отсортировать команды по рейтингу\n",
    "2. Если количество команд чётное - составить пары согласно следованию отсортированных команд. Конец.\n",
    "3. Если количество команд нечётное:\n",
    " 1. Считаем расстояние в том случае, если выкидываем первую команду(Для этого придется пройтись по всей последовательности). Получаем distance_sum\n",
    " 2. Переходим к третьей команде, тогда `distance_sum = distance_sum-(x[2]-x[1])+(x[3]-x[2])`\n",
    " 3. Проходимся по всем нечетным командам и считаем distance_sum. Попутно запоминаем максимальное значение расстояния и позицию, где это произошло. Это и будет искомая команда, которая не будет участвовать в составлении пар.\n",
    " 4. Теперь количество команд чётное. Переходим к пункту 2.\n",
    "\n",
    "O(N log(N)) - сложность сортировки, O(N) поиск точки. Тогда итоговая сложность алгоритма равняется сложности сортировки, т.е O(N log(N)) \n"
   ]
  },
  {
   "cell_type": "markdown",
   "metadata": {
    "collapsed": true
   },
   "source": [
    "# Реализация"
   ]
  },
  {
   "cell_type": "code",
   "execution_count": 1,
   "metadata": {
    "collapsed": true
   },
   "outputs": [],
   "source": [
    "import numpy as np\n",
    "username = 'ShchegolevMaximMaximovich'\n",
    "\n",
    "test_names = ['test_A','test_B','test_C','test_D']\n",
    "\n",
    "players_file_name = 'players.txt'\n",
    "teams_file_name = 'teams.txt'\n",
    "\n",
    "def get_data(folder_name):\n",
    "    \"\"\"\n",
    "    Load data from test folder\n",
    "    \"\"\"\n",
    "    players = np.loadtxt('{0}/{1}'.format(folder_name, players_file_name), dtype='int32')\n",
    "    teams = np.loadtxt('{0}/{1}'.format(folder_name,teams_file_name), dtype='int32')\n",
    "    return players, teams"
   ]
  },
  {
   "cell_type": "code",
   "execution_count": 2,
   "metadata": {
    "collapsed": true
   },
   "outputs": [],
   "source": [
    "tests = dict(zip(test_names,[get_data(test_name) for test_name in test_names]))"
   ]
  },
  {
   "cell_type": "code",
   "execution_count": 3,
   "metadata": {
    "collapsed": false
   },
   "outputs": [
    {
     "name": "stdout",
     "output_type": "stream",
     "text": [
      "test_C; number of teams: 9999\n",
      "test_B; number of teams: 9999\n",
      "test_D; number of teams: 10001\n",
      "test_A; number of teams: 100000\n"
     ]
    }
   ],
   "source": [
    "for test_name in tests:\n",
    "    print('{0}; number of teams: {1}'.format(test_name, len(tests[test_name][1])))"
   ]
  },
  {
   "cell_type": "code",
   "execution_count": 4,
   "metadata": {
    "collapsed": true
   },
   "outputs": [],
   "source": [
    "def get_team_ratings(players, teams):\n",
    "    return np.sum(players[teams[:,1:],1],axis=1)"
   ]
  },
  {
   "cell_type": "code",
   "execution_count": 5,
   "metadata": {
    "collapsed": false
   },
   "outputs": [
    {
     "name": "stdout",
     "output_type": "stream",
     "text": [
      "CPU times: user 20 ms, sys: 8 ms, total: 28 ms\n",
      "Wall time: 28.6 ms\n"
     ]
    }
   ],
   "source": [
    "%%time\n",
    "team_ratings = dict(zip(test_names,[get_team_ratings(*tests[test_name]) for test_name in test_names]))"
   ]
  },
  {
   "cell_type": "code",
   "execution_count": 6,
   "metadata": {
    "collapsed": true
   },
   "outputs": [],
   "source": [
    "def sort(team_ratings):\n",
    "    sort_indexes = np.argsort(team_ratings)\n",
    "    ordered_team_ratings = team_ratings[sort_indexes]\n",
    "    \n",
    "    return ordered_team_ratings, sort_indexes"
   ]
  },
  {
   "cell_type": "markdown",
   "metadata": {},
   "source": [
    "В случае с python идти в цикле и высчитывать distance_sum чуть медленнее, чем по отдельности посчитать разницу между нечетными и четными  и отнять от нее разницу между четными и нечетными. В итоге получится последовательность, элементы которой нужно будет просто складывать, и тот элемент, на котором будет максимальная сумма - кандидат на вылет. \n",
    "С точки зрения теории, проходов по массиву рейтингов команд получается чуть больше(сначала получаем все четные элементы, потом нечётные), но с точки зрения использования numpy - быстрее. Приблизительно в четыре раза. "
   ]
  },
  {
   "cell_type": "code",
   "execution_count": 7,
   "metadata": {
    "collapsed": true
   },
   "outputs": [],
   "source": [
    "def get_even_odd_difference(array):\n",
    "    \"\"\"\n",
    "    Get total difference between even and odd elements.\n",
    "    Parameters\n",
    "    ----------\n",
    "    array : numpy array of shape [n_samples]\n",
    "\n",
    "    Returns\n",
    "    -------\n",
    "    diff : returns the difference\n",
    "    \n",
    "    Examples\n",
    "    --------\n",
    "    >>> get_even_odd_difference(np.array([1,5,15,20]))\n",
    "    array([4, 5])\n",
    "    >>> get_even_odd_difference(np.array([1,5,15,20,21]))\n",
    "    array([4, 5])\n",
    "    >>> get_even_odd_difference(np.array([1,7, 11, 16]))\n",
    "    array([6, 5])\n",
    "    \"\"\"\n",
    "        \n",
    "    array_length = len(array)\n",
    "    return array[np.arange(1,array_length,2)].astype(np.int64, copy=False) - array[np.arange(0,array_length-1,2)]\n",
    "\n",
    "def get_odd_even_difference(array):\n",
    "    \"\"\"\n",
    "    Get total difference between odd and even elements.\n",
    "    Parameters\n",
    "    ----------\n",
    "    array : numpy array of shape [n_samples]\n",
    "\n",
    "    Returns\n",
    "    -------\n",
    "    diff : returns the difference\n",
    "    \n",
    "    Examples\n",
    "    --------\n",
    "    >>> get_odd_even_difference(np.array([1,5,15,20,21]))\n",
    "    array([10,  1])\n",
    "    \"\"\"\n",
    "    \n",
    "    array_length = len(array)\n",
    "    return array[np.arange(2,array_length,2)].astype(np.int64, copy=False) - array[np.arange(1,array_length,2)]"
   ]
  },
  {
   "cell_type": "code",
   "execution_count": 8,
   "metadata": {
    "collapsed": true
   },
   "outputs": [],
   "source": [
    "def get_bad_team_index(ordered_team_ratings):\n",
    "    \"\"\"\n",
    "    Returns the index of a bad team(the team that will not be used in our pairs)\n",
    "    \"\"\"\n",
    "    if ordered_team_ratings.shape[0] % 2 == 0:\n",
    "        raise ValueError('There is not a bad number')\n",
    "    #all magic is here\n",
    "    sequence = get_odd_even_difference(ordered_team_ratings)-get_even_odd_difference(ordered_team_ratings)\n",
    "    odd_value_index = 0\n",
    "    current_sum = max_sum = 0\n",
    "    for i,num in enumerate(sequence):\n",
    "        current_sum += num\n",
    "        if current_sum > max_sum:\n",
    "            max_sum = current_sum\n",
    "            odd_value_index = i+1           \n",
    " \n",
    "    return odd_value_index*2\n",
    "\n",
    "def get_balanced_pairs(team_ratings):\n",
    "    if type(team_ratings) is not np.ndarray:\n",
    "        team_ratings = np.array(team_ratings)\n",
    "        \n",
    "    ordered_team_ratings,sort_indexes = sort(team_ratings)\n",
    "    \n",
    "    if ordered_team_ratings.shape[0] % 2 != 0:\n",
    "        bad_team_index = get_bad_team_index(ordered_team_ratings)\n",
    "        print('the team without a competitor: ', sort_indexes[bad_team_index])\n",
    "        sort_indexes = sort_indexes[np.arange(len(sort_indexes))!=bad_team_index]\n",
    "    return sort_indexes.reshape(-1,2)"
   ]
  },
  {
   "cell_type": "code",
   "execution_count": 9,
   "metadata": {
    "collapsed": true
   },
   "outputs": [],
   "source": [
    "def get_target_value(balanced_pairs, team_ratings):\n",
    "    return np.sum(np.diff(team_ratings[balanced_pairs]))"
   ]
  },
  {
   "cell_type": "code",
   "execution_count": 10,
   "metadata": {
    "collapsed": false
   },
   "outputs": [
    {
     "name": "stdout",
     "output_type": "stream",
     "text": [
      "total difference:  24092 \n",
      "\n",
      "CPU times: user 12 ms, sys: 0 ns, total: 12 ms\n",
      "Wall time: 12.1 ms\n"
     ]
    }
   ],
   "source": [
    "%%time\n",
    "a_balanced_pairs = get_balanced_pairs(team_ratings['test_A'])\n",
    "print('total difference: ', get_target_value(a_balanced_pairs, team_ratings['test_A']), '\\n')"
   ]
  },
  {
   "cell_type": "code",
   "execution_count": 11,
   "metadata": {
    "collapsed": false
   },
   "outputs": [
    {
     "name": "stdout",
     "output_type": "stream",
     "text": [
      "the team without a competitor:  1613\n",
      "total difference:  19601 \n",
      "\n",
      "CPU times: user 4 ms, sys: 0 ns, total: 4 ms\n",
      "Wall time: 3.99 ms\n"
     ]
    }
   ],
   "source": [
    "%%time\n",
    "b_balanced_pairs = get_balanced_pairs(team_ratings['test_B'])\n",
    "print('total difference: ', get_target_value(b_balanced_pairs, team_ratings['test_B']), '\\n')"
   ]
  },
  {
   "cell_type": "code",
   "execution_count": 12,
   "metadata": {
    "collapsed": false
   },
   "outputs": [
    {
     "name": "stdout",
     "output_type": "stream",
     "text": [
      "the team without a competitor:  7618\n",
      "total difference:  18923 \n",
      "\n",
      "CPU times: user 8 ms, sys: 0 ns, total: 8 ms\n",
      "Wall time: 5.12 ms\n"
     ]
    }
   ],
   "source": [
    "%%time\n",
    "c_balanced_pairs = get_balanced_pairs(team_ratings['test_C'])\n",
    "print('total difference: ', get_target_value(c_balanced_pairs, team_ratings['test_C']), '\\n')"
   ]
  },
  {
   "cell_type": "code",
   "execution_count": 13,
   "metadata": {
    "collapsed": false
   },
   "outputs": [
    {
     "name": "stdout",
     "output_type": "stream",
     "text": [
      "the team without a competitor:  7577\n",
      "total difference:  18593 \n",
      "\n",
      "CPU times: user 8 ms, sys: 0 ns, total: 8 ms\n",
      "Wall time: 6 ms\n"
     ]
    }
   ],
   "source": [
    "%%time\n",
    "d_balanced_pairs = get_balanced_pairs(team_ratings['test_D'])\n",
    "print('total difference: ', get_target_value(d_balanced_pairs, team_ratings['test_D']), '\\n')"
   ]
  },
  {
   "cell_type": "code",
   "execution_count": 14,
   "metadata": {
    "collapsed": true
   },
   "outputs": [],
   "source": [
    "for result in zip(test_names, [a_balanced_pairs, b_balanced_pairs, c_balanced_pairs, d_balanced_pairs]):\n",
    "    file_name = '{0}_task_1_team_pairs/{1}_pairs.txt'.format(username, result[0])\n",
    "    np.savetxt(file_name,result[1],fmt='%i')"
   ]
  }
 ],
 "metadata": {
  "anaconda-cloud": {},
  "kernelspec": {
   "display_name": "Python [conda root]",
   "language": "python",
   "name": "conda-root-py"
  },
  "language_info": {
   "codemirror_mode": {
    "name": "ipython",
    "version": 3
   },
   "file_extension": ".py",
   "mimetype": "text/x-python",
   "name": "python",
   "nbconvert_exporter": "python",
   "pygments_lexer": "ipython3",
   "version": "3.5.2"
  }
 },
 "nbformat": 4,
 "nbformat_minor": 1
}
